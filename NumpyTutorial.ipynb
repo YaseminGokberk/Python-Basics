{
 "cells": [
  {
   "cell_type": "markdown",
   "metadata": {},
   "source": [
    "\n",
    "\n",
    "# NumPy Kütüphanesi Temel Fonksiyonları ve Uygulamaları \n",
    "\n",
    "## İçerik\n",
    "\n",
    " ### 1. *NumPy Kütüphanesi Nedir, Nasıl Yüklenir?*\n",
    " ### 2. *NumPy Array (Dizi) Yapısı*\n",
    "     * Dizi Oluşturma \n",
    "     * Rastgele (Random) Dizi Oluşturma\n",
    "     * Dizi Elemanlarına Erişim\n",
    "     * Dizi Özellikleri ve Operatörleri \n",
    "     * Alt-dizi Oluşturma\n",
    "     * Dizileri Yeniden Boyutlandırma\n",
    "     \n",
    "     \n",
    " ### 3. *Matematiksel İşlemler*\n",
    "     * Transpoz İşlemi\n",
    "     * Matrisin Tersini Bulma\n",
    "     * Operatörler\n",
    "     \n",
    "     \n",
    " ### 4. *Yararlanılan Kaynaklar*\n"
   ]
  },
  {
   "cell_type": "markdown",
   "metadata": {},
   "source": [
    "## 1. **NumPy Kütüphanesi Nedir, Nasıl Yüklenir?** ##\n",
    "\n",
    "    NumPy, bilimsel hesaplamalar için kullanılan temel bir Python kütüphanesidir.   \n",
    "    NumPy kütüphanesini kullanmak için pip veya anaconda ile yükleme işlemi yapılır:\n",
    "    \n",
    "~~~\n",
    "$ pip install numpy\n",
    "~~~\n",
    "veya anaconda üzerinde:\n",
    "\n",
    "~~~\n",
    "$ conda install numpy\n",
    "~~~"
   ]
  },
  {
   "cell_type": "markdown",
   "metadata": {},
   "source": [
    "## 2. **NumPy Array (Dizi) Yapısı**\n",
    "\n",
    "    Öncelikle yüklü NumPy paketini kullanmak için import işlemini gerçekleştirmeliyiz (Tanımlayacağımız 'np' ile kütüphane fonksiyonlarını çağıracağız.) : "
   ]
  },
  {
   "cell_type": "code",
   "execution_count": 144,
   "metadata": {
    "collapsed": true
   },
   "outputs": [],
   "source": [
    "import numpy as np"
   ]
  },
  {
   "cell_type": "markdown",
   "metadata": {},
   "source": [
    "Numpy Array, en sık kullanılan Numpy fonksiyonlarındandır. Veri biliminde sıkça kullanılan Numpy kütüphanesinin ayırt edici özelliklerinden birisi Numpy Array'ler ile element-wise hesaplamaların gerçekleştirilebilmesidir. ( Element-wise işlemlerde, konumsal olarak karşılık gelen değerler birleştirilerek yeni bir vektör oluşturulur.)\n",
    "\n",
    "### ***Dizi Oluşturma*** ###\n",
    "    - Öncelikle dizi tanımlayarak başlayalım:  "
   ]
  },
  {
   "cell_type": "code",
   "execution_count": 145,
   "metadata": {
    "collapsed": false
   },
   "outputs": [
    {
     "name": "stdout",
     "output_type": "stream",
     "text": [
      "1. dizi: [1 2 3]\n",
      "2. dizi: [[1 2 3]\n",
      " [4 5 6]]\n"
     ]
    }
   ],
   "source": [
    "dizi_a = np.array([1,2,3])            ##Bir-boyutlu dizi -1d Array-\n",
    "dizi_b = np.array([(1,2,3),(4,5,6)])  ##İki-boyutlu dizi -2d Array-\n",
    "\n",
    "print(\"1. dizi: \"+str(dizi_a)+ \"\\n\"+ \"2. dizi: \"+str(dizi_b))"
   ]
  },
  {
   "cell_type": "markdown",
   "metadata": {},
   "source": [
    "Dizileri önceden belirli aralıklarla da oluşturabiliriz. ***arange*** fonksiyonu; sırasıyla başlangıç, bitiş ve adım aralığını \n",
    "parametre olarak alıp bitiş noktasının dahil olmadığı bir dizi oluşturur. ***linspace*** başlangıç ve bitiş değerleri arasındaki \n",
    "istenilen sayıda eş aralıklı değer türetir. arange'ten farklı olarak linspace'te adım aralığı değil örnek sayısı parametre \n",
    "olarak girilir ve bitiş noktası da türetilen değerler içindedir. \n",
    "\n"
   ]
  },
  {
   "cell_type": "code",
   "execution_count": 146,
   "metadata": {
    "collapsed": false
   },
   "outputs": [
    {
     "name": "stdout",
     "output_type": "stream",
     "text": [
      "arrange ile oluşturulan dizi: [1 2 3 4 5 6 7 8 9]\n",
      "\n",
      "linspace ile oluşturulan dizi: [  1.    5.5  10. ]\n"
     ]
    }
   ],
   "source": [
    "print(\"arrange ile oluşturulan dizi: \"+str(np.arange(1,10,1)))\n",
    "\n",
    "print(\"\\nlinspace ile oluşturulan dizi: \"+str(np.linspace(1,10,3)))"
   ]
  },
  {
   "cell_type": "markdown",
   "metadata": {},
   "source": [
    "### ***Random Dizi Oluşturma*** ###"
   ]
  },
  {
   "cell_type": "code",
   "execution_count": 147,
   "metadata": {
    "collapsed": false
   },
   "outputs": [
    {
     "name": "stdout",
     "output_type": "stream",
     "text": [
      "x1: [5 0 3 3 7 9]\n",
      "\n",
      "x2: [[3 5 2 4]\n",
      " [7 6 8 8]\n",
      " [1 6 7 7]]\n",
      "\n",
      "x3: [[[8 1 5 9 8]\n",
      "  [9 4 3 0 3]\n",
      "  [5 0 2 3 8]\n",
      "  [1 3 3 3 7]]\n",
      "\n",
      " [[0 1 9 9 0]\n",
      "  [4 7 3 2 7]\n",
      "  [2 0 0 4 5]\n",
      "  [5 6 8 4 1]]\n",
      "\n",
      " [[4 9 8 1 1]\n",
      "  [7 9 9 3 6]\n",
      "  [7 2 0 3 5]\n",
      "  [9 4 4 6 4]]]\n"
     ]
    }
   ],
   "source": [
    "# Dizi tanımlarken sıkça random fonksiyonu kullanılır:\n",
    "np.random.seed(0)  # seed -> tekrarlanabilirlik için\n",
    "\n",
    "x1 = np.random.randint(10, size=6)  # Bir-boyutlu dizi- 1d array\n",
    "x2 = np.random.randint(10, size=(3, 4))  # İki-boyutlu dizi - 2d array\n",
    "x3 = np.random.randint(10, size=(3, 4, 5))  # Üç-boyutlu dizi - 3d array\n",
    "\n",
    "print(\"x1: \"+str(x1)+\"\\n\\nx2: \"+str(x2)+\"\\n\\nx3: \"+str(x3))"
   ]
  },
  {
   "cell_type": "code",
   "execution_count": 148,
   "metadata": {
    "collapsed": false
   },
   "outputs": [
    {
     "name": "stdout",
     "output_type": "stream",
     "text": [
      "[[ 0.65279032  0.63505887]\n",
      " [ 0.99529957  0.58185033]\n",
      " [ 0.41436859  0.4746975 ]]\n"
     ]
    }
   ],
   "source": [
    "# Bir başka yöntem:\n",
    "print(np.random.rand(3,2))  # random değerler ile 3*2 boyuta sahip bir dizi oluşturur"
   ]
  },
  {
   "cell_type": "markdown",
   "metadata": {},
   "source": [
    "### *** Dizi Elemanlarına Erişim *** ###\n",
    "\n",
    "Dizi yapısında axis değerleri satır ve sütunu ifade eder, yani:\n",
    "    - \"axis = 0\" satırı\n",
    "    - \"axis = 1\" sütunu ifade etmektedir. "
   ]
  },
  {
   "cell_type": "markdown",
   "metadata": {},
   "source": [
    "Bir dizi oluşturalım ve elemanlarına nasıl erişebileceğimizi görelim.\n",
    "\n",
    "**Bir-boyutlu dizide elemanlara erişim:**"
   ]
  },
  {
   "cell_type": "code",
   "execution_count": 149,
   "metadata": {
    "collapsed": false
   },
   "outputs": [
    {
     "name": "stdout",
     "output_type": "stream",
     "text": [
      "[22 48 17 25 36 20]\n",
      "25\n",
      "20\n",
      "25\n"
     ]
    }
   ],
   "source": [
    "TekBoyutluDizi = np.array([22,48,17,25,36,20])\n",
    "print(TekBoyutluDizi)\n",
    "\n",
    "# 3. elemana erişim\n",
    "print(TekBoyutluDizi[3]) \n",
    "\n",
    "# Dizinin elemanlarına sondan başa (ters sırayla) ulaşmak için negatif değerler kullanırız, örneğin son elemana ulaşmak için:\n",
    "print(TekBoyutluDizi[-1])\n",
    "\n",
    "# veya sondan üçüncü eleman için:\n",
    "\n",
    "print(TekBoyutluDizi[-3])  "
   ]
  },
  {
   "cell_type": "markdown",
   "metadata": {},
   "source": [
    "**Çok-boyutlu dizide elemanlara erişim:**"
   ]
  },
  {
   "cell_type": "code",
   "execution_count": 150,
   "metadata": {
    "collapsed": false
   },
   "outputs": [
    {
     "name": "stdout",
     "output_type": "stream",
     "text": [
      "[[3 5 2 4]\n",
      " [7 6 8 8]\n",
      " [1 6 7 7]]\n",
      "6\n",
      "4\n"
     ]
    }
   ],
   "source": [
    "multiDizi = np.array([[3, 5, 2, 4],\n",
    "       [7, 6, 8, 8],\n",
    "       [1, 6, 7, 7]])\n",
    "\n",
    "print(multiDizi)\n",
    "\n",
    "# 2. satır 1.sütun elemana erişim:\n",
    "print(multiDizi[2,1])\n",
    "\n",
    "# 0. satır -1. sütun (son sütun) elemanına erişim:\n",
    "print(multiDizi[0,-1])\n"
   ]
  },
  {
   "cell_type": "markdown",
   "metadata": {},
   "source": [
    "*Erişilen indise istenen sayı ataması gerçekleştirilebilir:*"
   ]
  },
  {
   "cell_type": "code",
   "execution_count": 151,
   "metadata": {
    "collapsed": false
   },
   "outputs": [
    {
     "name": "stdout",
     "output_type": "stream",
     "text": [
      "[[9 5 2 4]\n",
      " [7 6 8 8]\n",
      " [1 6 7 7]]\n"
     ]
    }
   ],
   "source": [
    "multiDizi[0,0]= 9\n",
    "print(multiDizi)"
   ]
  },
  {
   "cell_type": "markdown",
   "metadata": {},
   "source": [
    "*NumPy dizilerinin sabit bir tipi vardır. Bu nedenle örneğin, bir tam sayı dizisine kayan noktalı (float) bir değer girmeyi \n",
    "denerseniz, ondalık kısım kesilir.*"
   ]
  },
  {
   "cell_type": "code",
   "execution_count": 152,
   "metadata": {
    "collapsed": false
   },
   "outputs": [
    {
     "name": "stdout",
     "output_type": "stream",
     "text": [
      "[[3 5 2 4]\n",
      " [7 6 8 8]\n",
      " [1 6 7 7]]\n"
     ]
    }
   ],
   "source": [
    "multiDizi[0,0] = 3.14159  \n",
    "print(multiDizi)"
   ]
  },
  {
   "cell_type": "markdown",
   "metadata": {},
   "source": [
    "### *** Dizi Özellikleri ve Operatörleri *** ###"
   ]
  },
  {
   "cell_type": "code",
   "execution_count": 153,
   "metadata": {
    "collapsed": false
   },
   "outputs": [
    {
     "name": "stdout",
     "output_type": "stream",
     "text": [
      "(3, 4)\n",
      "3\n",
      "12\n",
      "int32\n",
      "[[3 5 2 4]\n",
      " [7 6 8 8]\n",
      " [1 6 7 7]]\n"
     ]
    }
   ],
   "source": [
    "# Dizi boyutunu görüntüleme -> array.shape\n",
    "\n",
    "print(multiDizi.shape)\n",
    "\n",
    "# Dizi uzunluğunu görüntüleme -> len(array)  satır sayısı uzunluğa eşittir\n",
    "\n",
    "print(len(multiDizi))\n",
    "\n",
    "# Dizi eleman sayısını görüntüleme -> array.size\n",
    "\n",
    "print(multiDizi.size)\n",
    "\n",
    "# Dizi elemanlarının veri tipini görüntüleme -> array.dtype\n",
    "\n",
    "print(multiDizi.dtype)\n",
    "\n",
    "# Diziyi kopyalama\n",
    "\n",
    "copyD = multiDizi.copy()\n",
    "print(copyD)\n"
   ]
  },
  {
   "cell_type": "code",
   "execution_count": 154,
   "metadata": {
    "collapsed": false
   },
   "outputs": [
    {
     "name": "stdout",
     "output_type": "stream",
     "text": [
      "[ 1  2  3  4  5  6  7  8  9 10]\n",
      "[1 2 3 4 5 6 7 8 9]\n",
      "[1 2 3 4 4 5 6 7 8 9]\n"
     ]
    }
   ],
   "source": [
    "# Dizi sıralama -> array.sort()\n",
    "\n",
    "y = np.array([10, 9, 8, 7, 6, 5, 4, 3, 2, 1])\n",
    "y.sort()\n",
    "\n",
    "print(y)\n",
    "\n",
    "# Diziye eleman ekleme işlemi -> np.append(a,b)\n",
    "\n",
    "a = np.array([(1, 2, 3),(4, 5, 6)])\n",
    "b = np.append(a, [(7, 8, 9)])\n",
    "\n",
    "print(b)\n",
    "\n",
    "# İstenilen satır veya sütuna eleman ekleme işlemi -> np.insert(array, 1, 2, axis) (axis=0 satır)\n",
    "\n",
    "c= np.insert(b,3,4,0)  # b dizisinin 3.indisine 4 rakamını ekler\n",
    "print(c)"
   ]
  },
  {
   "cell_type": "markdown",
   "metadata": {},
   "source": [
    "### ***Alt-dizi Oluşturma*** ###"
   ]
  },
  {
   "cell_type": "code",
   "execution_count": 155,
   "metadata": {
    "collapsed": false
   },
   "outputs": [
    {
     "name": "stdout",
     "output_type": "stream",
     "text": [
      "[array([1, 2, 3]), array([4, 5, 6]), array([7, 8])]\n"
     ]
    }
   ],
   "source": [
    "# -> np.array_split(array, number of sub-arrays)\n",
    "\n",
    "aSplit = np.array([1, 2, 3, 4, 5, 6, 7, 8])\n",
    "\n",
    "print(np.array_split(aSplit,3))\n"
   ]
  },
  {
   "cell_type": "markdown",
   "metadata": {},
   "source": [
    "### ***Dizileri Yeniden Boyutlandırma*** ###"
   ]
  },
  {
   "cell_type": "code",
   "execution_count": 156,
   "metadata": {
    "collapsed": false
   },
   "outputs": [
    {
     "name": "stdout",
     "output_type": "stream",
     "text": [
      "1.örnek: [[0 1 2]\n",
      " [3 4 5]]\n",
      "\n",
      "2.örnek: [1 2 3 4 5 6]\n"
     ]
    }
   ],
   "source": [
    "# Diziyi yeniden boyutlandırma -> np.resize((2,4))  -index sırasına göre yeniden boyutlandırma yapar\n",
    "\n",
    "a = np.array([[0, 1],\n",
    "       [2, 3],\n",
    "       [4, 5]])\n",
    "\n",
    "print(\"1.örnek: \"+str( np.reshape(a, (2, 3)))+ \"\\n\" )\n",
    "\n",
    "\n",
    "# -> np.reshape(a, 6)\n",
    "\n",
    "a = np.array([[1,2,3], [4,5,6]])\n",
    "\n",
    "print(\"2.örnek: \"+str(np.reshape(a,6)) )"
   ]
  },
  {
   "cell_type": "markdown",
   "metadata": {},
   "source": [
    "## 3. **Matematiksel İşlemler**"
   ]
  },
  {
   "cell_type": "markdown",
   "metadata": {},
   "source": [
    "### ***Transpoz İşlemi***###\n"
   ]
  },
  {
   "cell_type": "code",
   "execution_count": 157,
   "metadata": {
    "collapsed": false
   },
   "outputs": [
    {
     "name": "stdout",
     "output_type": "stream",
     "text": [
      "[[14 21  1 89]\n",
      " [23 12  0  4]\n",
      " [ 8 23 11  0]]\n",
      "\n",
      "[[14 23  8]\n",
      " [21 12 23]\n",
      " [ 1  0 11]\n",
      " [89  4  0]]\n",
      "\n",
      "[[14 21  1 89]\n",
      " [23 12  0  4]\n",
      " [ 8 23 11  0]]\n"
     ]
    }
   ],
   "source": [
    "# Dizinin transpozunu alma işlemi -> array = np.transpose(other)\n",
    "\n",
    "Dizi= np.array([[14,21,1,89],[23,12,0,4],[8,23,11,0]])\n",
    "print(str(Dizi)+\"\\n\")\n",
    "\n",
    "tDizi = np.transpose(Dizi)\n",
    "print(tDizi)\n",
    "\n",
    "# veya -> array.T\n",
    "\n",
    "print(\"\\n\"+str(tDizi.T))\n",
    "\n"
   ]
  },
  {
   "cell_type": "markdown",
   "metadata": {},
   "source": [
    "### ***Matrisin Tersini Bulma*** ###"
   ]
  },
  {
   "cell_type": "code",
   "execution_count": 158,
   "metadata": {
    "collapsed": false
   },
   "outputs": [
    {
     "name": "stdout",
     "output_type": "stream",
     "text": [
      "matris: [[3 1]\n",
      " [2 4]]\n",
      "\n",
      "Matrisin tersi: [[ 0.4 -0.1]\n",
      " [-0.2  0.3]]\n"
     ]
    }
   ],
   "source": [
    "# -> inverse = np.linalg.inv(matrix)\n",
    "\n",
    "Matris = np.array([[3,1],[2,4]])\n",
    "print(\"matris: \"+str(Matris)+ \"\\n\")\n",
    "iMatris = np.linalg.inv(Matris)\n",
    "\n",
    "print(\"Matrisin tersi: \"+str(iMatris))"
   ]
  },
  {
   "cell_type": "markdown",
   "metadata": {},
   "source": [
    "### *** Operatörler *** ###\n",
    "\n",
    "- NumPy Array operatörleri element-wise işlem yaparlar."
   ]
  },
  {
   "cell_type": "code",
   "execution_count": 159,
   "metadata": {
    "collapsed": false
   },
   "outputs": [
    {
     "name": "stdout",
     "output_type": "stream",
     "text": [
      "[[2 4 6]\n",
      " [5 7 9]]\n"
     ]
    }
   ],
   "source": [
    "# Toplama işlemi -> np.add(x,y)\n",
    "\n",
    "a = np.array([1, 2, 3])\n",
    "b = np.array([(1, 2, 3), (4, 5, 6)])\n",
    "\n",
    "print(np.add(a, b))\n",
    "\n"
   ]
  },
  {
   "cell_type": "code",
   "execution_count": 160,
   "metadata": {
    "collapsed": false
   },
   "outputs": [
    {
     "name": "stdout",
     "output_type": "stream",
     "text": [
      "[[ 0  0  0]\n",
      " [-3 -3 -3]]\n"
     ]
    }
   ],
   "source": [
    "# Çıkarma işlemi -> np.substract(x,y)\n",
    "\n",
    "a = np.array([1, 2, 3])\n",
    "b = np.array([(1, 2, 3), (4, 5, 6)])\n",
    "\n",
    "print(np.subtract(a, b))\n"
   ]
  },
  {
   "cell_type": "code",
   "execution_count": 161,
   "metadata": {
    "collapsed": false
   },
   "outputs": [
    {
     "name": "stdout",
     "output_type": "stream",
     "text": [
      "[[ 1.    1.    1.  ]\n",
      " [ 0.25  0.4   0.5 ]]\n"
     ]
    }
   ],
   "source": [
    "# Bölme işlemi -> np.divide(x,y)\n",
    "\n",
    "a = np.array([1, 2, 3])\n",
    "b = np.array([(1, 2, 3), (4, 5, 6)])\n",
    "\n",
    "print(np.divide(a, b))"
   ]
  },
  {
   "cell_type": "code",
   "execution_count": 162,
   "metadata": {
    "collapsed": false
   },
   "outputs": [
    {
     "name": "stdout",
     "output_type": "stream",
     "text": [
      "[[ 1  4  9]\n",
      " [ 4 10 18]]\n",
      "\n",
      "[[ 1.          1.41421356  1.73205081]\n",
      " [ 2.          2.23606798  2.44948974]]\n"
     ]
    }
   ],
   "source": [
    "# Çarpma işlemi -> np.multiply(x,y)\n",
    "\n",
    "a = np.array([1, 2, 3])\n",
    "b = np.array([(1, 2, 3), (4, 5, 6)])\n",
    "\n",
    "print(np.multiply(a, b))\n",
    "\n",
    "# Kök alma işlemi -> np.sqrt(x)\n",
    "\n",
    "print(\"\\n\"+str(np.sqrt(b)))"
   ]
  },
  {
   "cell_type": "code",
   "execution_count": 163,
   "metadata": {
    "collapsed": false
   },
   "outputs": [
    {
     "name": "stdout",
     "output_type": "stream",
     "text": [
      "[ 0.89399666  0.         -0.80115264]\n",
      "\n",
      "[-0.44807362  1.         -0.59846007]\n",
      "\n",
      "[[ 0.          1.38629436  2.30258509]\n",
      " [ 3.17805383  1.60943791  1.79175947]]\n"
     ]
    }
   ],
   "source": [
    "a = np.array([1, 7, 3])\n",
    "b = np.array([(1, 4, 10), (24, 5, 6)])\n",
    "c= np.array([90, 0, 180])\n",
    "\n",
    "# np.sin(x)\n",
    "\n",
    "print(str(np.sin(c))+\"\\n\")\n",
    "\n",
    "#np.cos(x)\n",
    "\n",
    "print(str(np.cos(c))+\"\\n\")\n",
    "\n",
    "# logaritma hesaplama -> np.log(x)\n",
    "\n",
    "print(np.log(b))\n"
   ]
  },
  {
   "cell_type": "code",
   "execution_count": 164,
   "metadata": {
    "collapsed": false
   },
   "outputs": [
    {
     "name": "stdout",
     "output_type": "stream",
     "text": [
      "[ 72 142  42]\n"
     ]
    }
   ],
   "source": [
    "# Matris-vektör çarpımı için dot fonksiyonu tanımlanmıştır ->  np.dot(x,y)\n",
    "\n",
    "x = np.array([(1, 4, 10), (24, 5, 6),(2, 11, 2)])   # 3x3\n",
    "y = np.array([4,2,6])                               # 1x3\n",
    "\n",
    "print(str(np.dot(x,y)))                             # sonuc ->1x3"
   ]
  },
  {
   "cell_type": "code",
   "execution_count": 165,
   "metadata": {
    "collapsed": false
   },
   "outputs": [
    {
     "name": "stdout",
     "output_type": "stream",
     "text": [
      "[ True  True  True  True  True False False False False False]\n"
     ]
    }
   ],
   "source": [
    "# Karşılaştırma Operatörü  -> np.array_equal(x,y)\n",
    "\n",
    "z = np.array([1, 2, 3, 4, 5, 6, 7, 8, 9, 10])\n",
    "c = z < 6\n",
    "print(c)\n"
   ]
  },
  {
   "cell_type": "code",
   "execution_count": 176,
   "metadata": {
    "collapsed": false
   },
   "outputs": [
    {
     "name": "stdout",
     "output_type": "stream",
     "text": [
      "Ortalama: 5.0\n",
      "\n",
      "Medyan: 2.0\n",
      "\n",
      "Korelasyon: 1.0\n",
      "\n",
      "Standart Sapma: 4.29389100933\n"
     ]
    }
   ],
   "source": [
    "# İstatistik İşlemleri\n",
    "\n",
    "# ortalama -> np.mean(array)\n",
    "x = np.array([(2, 11, 2)])\n",
    "\n",
    "print(\"Ortalama: \"+str(np.mean(x))+\"\\n\")\n",
    "\n",
    "\n",
    "# medyan -> np.median(array)\n",
    "\n",
    "print(\"Medyan: \"+str(np.median(x))+\"\\n\")\n",
    "\n",
    "# Korelasyon katsayısı -> array.corrcoef()\n",
    "a = np.array([1, 1, 2, 5, 8, 10, 11, 12])\n",
    "\n",
    "corArray= np.corrcoef(x)\n",
    "print(\"Korelasyon: \"+str(corArray)+\"\\n\")\n",
    "\n",
    "# Standart Sapma -> np.std(array)\n",
    "\n",
    "print(\"Standart Sapma: \"+str(np.std(a)))"
   ]
  },
  {
   "cell_type": "markdown",
   "metadata": {},
   "source": [
    ">## 4. **Yararlanılan Kaynaklar: ** ##\n",
    "\n",
    "> **Github**: \n",
    "    -[  juliangaal/python-cheat-sheet](github.com/juliangaal/python-cheat-sheet)\n",
    "    -[jakevdp/PythonDataScienceHandbook](github.com/jakevdp/PythonDataScienceHandbook)\n",
    "> \n",
    "  **Diğer:**:\n",
    "    -[pythondersleri.com](http://www.pythondersleri.com)\n",
    "    -[spicy.org/numpy](https://docs.scipy.org)"
   ]
  }
 ],
 "metadata": {
  "anaconda-cloud": {},
  "kernelspec": {
   "display_name": "Python [default]",
   "language": "python",
   "name": "python3"
  },
  "language_info": {
   "codemirror_mode": {
    "name": "ipython",
    "version": 3
   },
   "file_extension": ".py",
   "mimetype": "text/x-python",
   "name": "python",
   "nbconvert_exporter": "python",
   "pygments_lexer": "ipython3",
   "version": "3.5.2"
  }
 },
 "nbformat": 4,
 "nbformat_minor": 1
}
